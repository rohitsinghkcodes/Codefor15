{
 "metadata": {
  "language_info": {
   "codemirror_mode": {
    "name": "ipython",
    "version": 3
   },
   "file_extension": ".py",
   "mimetype": "text/x-python",
   "name": "python",
   "nbconvert_exporter": "python",
   "pygments_lexer": "ipython3",
   "version": "3.7.4-final"
  },
  "orig_nbformat": 2,
  "kernelspec": {
   "name": "python37464bitbaseconda6ca9bee52454452696fabc64e2eb0d70",
   "display_name": "Python 3.7.4 64-bit ('base': conda)"
  }
 },
 "nbformat": 4,
 "nbformat_minor": 2,
 "cells": [
  {
   "cell_type": "code",
   "execution_count": 1,
   "metadata": {
    "tags": []
   },
   "outputs": [
    {
     "output_type": "stream",
     "name": "stdout",
     "text": "MMMII\nDL\nC\n"
    }
   ],
   "source": [
    "t = int(input())\n",
    "\n",
    "while(t):\n",
    "    t-=1\n",
    "    num = int(input())\n",
    "    no =[1,4,5,9,10,40,50,90,100,400,500,900,1000]\n",
    "    romanval = [\"I\",\"IV\",\"V\",\"IX\",\"X\",\"XL\",\"L\",\"XC\",\"C\",\"CD\",\"D\",\"XM\",\"M\"]\n",
    "    roman=''\n",
    "    i=12\n",
    "    while(num!=0):\n",
    "        val = num//no[i]\n",
    "        num = num%no[i]\n",
    "        while(val):\n",
    "            val-=1\n",
    "            roman+=romanval[i]\n",
    "        i-=1\n",
    "    print(roman)"
   ]
  },
  {
   "cell_type": "code",
   "execution_count": null,
   "metadata": {},
   "outputs": [],
   "source": []
  }
 ]
}